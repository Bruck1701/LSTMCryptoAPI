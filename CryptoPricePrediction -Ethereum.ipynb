{
 "cells": [
  {
   "cell_type": "code",
   "execution_count": 1,
   "metadata": {},
   "outputs": [],
   "source": [
    "import pandas as pd"
   ]
  },
  {
   "cell_type": "code",
   "execution_count": 2,
   "metadata": {},
   "outputs": [],
   "source": [
    "from dateutil.relativedelta import relativedelta"
   ]
  },
  {
   "cell_type": "code",
   "execution_count": 3,
   "metadata": {},
   "outputs": [],
   "source": [
    "from datetime import datetime, timedelta"
   ]
  },
  {
   "cell_type": "code",
   "execution_count": 4,
   "metadata": {},
   "outputs": [],
   "source": [
    "import yfinance as yf"
   ]
  },
  {
   "cell_type": "code",
   "execution_count": 36,
   "metadata": {},
   "outputs": [],
   "source": [
    "from keras.models import Sequential\n",
    "from keras.layers import Dense\n",
    "from keras.layers import LSTM\n",
    "from keras.layers import Dropout"
   ]
  },
  {
   "cell_type": "code",
   "execution_count": null,
   "metadata": {},
   "outputs": [],
   "source": []
  },
  {
   "cell_type": "markdown",
   "metadata": {},
   "source": [
    "# Collect the data to train the model"
   ]
  },
  {
   "cell_type": "code",
   "execution_count": 6,
   "metadata": {},
   "outputs": [],
   "source": [
    "today = datetime.today().strftime(\"%Y-%m-%d\")\n",
    "previous_date = (datetime.today() - relativedelta(years=2)).strftime(\"%Y-%m-%d\")"
   ]
  },
  {
   "cell_type": "code",
   "execution_count": 7,
   "metadata": {},
   "outputs": [
    {
     "name": "stdout",
     "output_type": "stream",
     "text": [
      "[*********************100%***********************]  1 of 1 completed\n"
     ]
    }
   ],
   "source": [
    "data = yf.download(\"eth-usd\", start=previous_date, end=today)"
   ]
  },
  {
   "cell_type": "code",
   "execution_count": 8,
   "metadata": {},
   "outputs": [
    {
     "data": {
      "text/html": [
       "<div>\n",
       "<style scoped>\n",
       "    .dataframe tbody tr th:only-of-type {\n",
       "        vertical-align: middle;\n",
       "    }\n",
       "\n",
       "    .dataframe tbody tr th {\n",
       "        vertical-align: top;\n",
       "    }\n",
       "\n",
       "    .dataframe thead th {\n",
       "        text-align: right;\n",
       "    }\n",
       "</style>\n",
       "<table border=\"1\" class=\"dataframe\">\n",
       "  <thead>\n",
       "    <tr style=\"text-align: right;\">\n",
       "      <th></th>\n",
       "      <th>Open</th>\n",
       "      <th>High</th>\n",
       "      <th>Low</th>\n",
       "      <th>Close</th>\n",
       "      <th>Adj Close</th>\n",
       "      <th>Volume</th>\n",
       "    </tr>\n",
       "    <tr>\n",
       "      <th>Date</th>\n",
       "      <th></th>\n",
       "      <th></th>\n",
       "      <th></th>\n",
       "      <th></th>\n",
       "      <th></th>\n",
       "      <th></th>\n",
       "    </tr>\n",
       "  </thead>\n",
       "  <tbody>\n",
       "    <tr>\n",
       "      <th>2018-07-09</th>\n",
       "      <td>488.877991</td>\n",
       "      <td>490.851990</td>\n",
       "      <td>475.174988</td>\n",
       "      <td>476.682007</td>\n",
       "      <td>476.682007</td>\n",
       "      <td>1533799936</td>\n",
       "    </tr>\n",
       "    <tr>\n",
       "      <th>2018-07-10</th>\n",
       "      <td>476.161987</td>\n",
       "      <td>478.317993</td>\n",
       "      <td>433.959991</td>\n",
       "      <td>434.424011</td>\n",
       "      <td>434.424011</td>\n",
       "      <td>1789069952</td>\n",
       "    </tr>\n",
       "    <tr>\n",
       "      <th>2018-07-11</th>\n",
       "      <td>434.515015</td>\n",
       "      <td>447.316010</td>\n",
       "      <td>429.506989</td>\n",
       "      <td>446.518005</td>\n",
       "      <td>446.518005</td>\n",
       "      <td>1422470016</td>\n",
       "    </tr>\n",
       "    <tr>\n",
       "      <th>2018-07-12</th>\n",
       "      <td>446.502014</td>\n",
       "      <td>446.502014</td>\n",
       "      <td>422.809998</td>\n",
       "      <td>430.074005</td>\n",
       "      <td>430.074005</td>\n",
       "      <td>1495440000</td>\n",
       "    </tr>\n",
       "    <tr>\n",
       "      <th>2018-07-13</th>\n",
       "      <td>430.740997</td>\n",
       "      <td>442.363007</td>\n",
       "      <td>430.740997</td>\n",
       "      <td>434.027008</td>\n",
       "      <td>434.027008</td>\n",
       "      <td>1489670016</td>\n",
       "    </tr>\n",
       "    <tr>\n",
       "      <th>...</th>\n",
       "      <td>...</td>\n",
       "      <td>...</td>\n",
       "      <td>...</td>\n",
       "      <td>...</td>\n",
       "      <td>...</td>\n",
       "      <td>...</td>\n",
       "    </tr>\n",
       "    <tr>\n",
       "      <th>2020-07-05</th>\n",
       "      <td>228.976196</td>\n",
       "      <td>229.856720</td>\n",
       "      <td>224.544495</td>\n",
       "      <td>227.664597</td>\n",
       "      <td>227.664597</td>\n",
       "      <td>5292172428</td>\n",
       "    </tr>\n",
       "    <tr>\n",
       "      <th>2020-07-06</th>\n",
       "      <td>227.685013</td>\n",
       "      <td>242.132706</td>\n",
       "      <td>227.029526</td>\n",
       "      <td>241.510223</td>\n",
       "      <td>241.510223</td>\n",
       "      <td>8782917552</td>\n",
       "    </tr>\n",
       "    <tr>\n",
       "      <th>2020-07-07</th>\n",
       "      <td>240.972595</td>\n",
       "      <td>242.681854</td>\n",
       "      <td>234.218658</td>\n",
       "      <td>239.075531</td>\n",
       "      <td>239.075531</td>\n",
       "      <td>6441497597</td>\n",
       "    </tr>\n",
       "    <tr>\n",
       "      <th>2020-07-08</th>\n",
       "      <td>239.159973</td>\n",
       "      <td>248.308868</td>\n",
       "      <td>238.398361</td>\n",
       "      <td>246.670013</td>\n",
       "      <td>246.670013</td>\n",
       "      <td>9892586411</td>\n",
       "    </tr>\n",
       "    <tr>\n",
       "      <th>2020-07-09</th>\n",
       "      <td>246.748291</td>\n",
       "      <td>247.291672</td>\n",
       "      <td>239.898651</td>\n",
       "      <td>243.015961</td>\n",
       "      <td>243.015961</td>\n",
       "      <td>8429099198</td>\n",
       "    </tr>\n",
       "  </tbody>\n",
       "</table>\n",
       "<p>732 rows × 6 columns</p>\n",
       "</div>"
      ],
      "text/plain": [
       "                  Open        High         Low       Close   Adj Close  \\\n",
       "Date                                                                     \n",
       "2018-07-09  488.877991  490.851990  475.174988  476.682007  476.682007   \n",
       "2018-07-10  476.161987  478.317993  433.959991  434.424011  434.424011   \n",
       "2018-07-11  434.515015  447.316010  429.506989  446.518005  446.518005   \n",
       "2018-07-12  446.502014  446.502014  422.809998  430.074005  430.074005   \n",
       "2018-07-13  430.740997  442.363007  430.740997  434.027008  434.027008   \n",
       "...                ...         ...         ...         ...         ...   \n",
       "2020-07-05  228.976196  229.856720  224.544495  227.664597  227.664597   \n",
       "2020-07-06  227.685013  242.132706  227.029526  241.510223  241.510223   \n",
       "2020-07-07  240.972595  242.681854  234.218658  239.075531  239.075531   \n",
       "2020-07-08  239.159973  248.308868  238.398361  246.670013  246.670013   \n",
       "2020-07-09  246.748291  247.291672  239.898651  243.015961  243.015961   \n",
       "\n",
       "                Volume  \n",
       "Date                    \n",
       "2018-07-09  1533799936  \n",
       "2018-07-10  1789069952  \n",
       "2018-07-11  1422470016  \n",
       "2018-07-12  1495440000  \n",
       "2018-07-13  1489670016  \n",
       "...                ...  \n",
       "2020-07-05  5292172428  \n",
       "2020-07-06  8782917552  \n",
       "2020-07-07  6441497597  \n",
       "2020-07-08  9892586411  \n",
       "2020-07-09  8429099198  \n",
       "\n",
       "[732 rows x 6 columns]"
      ]
     },
     "execution_count": 8,
     "metadata": {},
     "output_type": "execute_result"
    }
   ],
   "source": [
    "data"
   ]
  },
  {
   "cell_type": "code",
   "execution_count": 9,
   "metadata": {},
   "outputs": [],
   "source": [
    "from sklearn.preprocessing import MinMaxScaler\n"
   ]
  },
  {
   "cell_type": "code",
   "execution_count": 10,
   "metadata": {},
   "outputs": [],
   "source": [
    "import numpy as np"
   ]
  },
  {
   "cell_type": "markdown",
   "metadata": {},
   "source": [
    "# Period of time of previous prices to predict the next one."
   ]
  },
  {
   "cell_type": "code",
   "execution_count": 11,
   "metadata": {},
   "outputs": [],
   "source": [
    "period = 20"
   ]
  },
  {
   "cell_type": "code",
   "execution_count": null,
   "metadata": {},
   "outputs": [],
   "source": []
  },
  {
   "cell_type": "code",
   "execution_count": 12,
   "metadata": {},
   "outputs": [],
   "source": [
    "training_set = data[0:-period]\n",
    "test_set  = data[len(data)-period:]"
   ]
  },
  {
   "cell_type": "code",
   "execution_count": 13,
   "metadata": {},
   "outputs": [],
   "source": [
    "training_set=training_set.iloc[:,0:1].values"
   ]
  },
  {
   "cell_type": "markdown",
   "metadata": {},
   "source": [
    "# Scale the values to be in range of (0,1)\n",
    "### Numerical stability results in better models for LSTM"
   ]
  },
  {
   "cell_type": "code",
   "execution_count": 14,
   "metadata": {},
   "outputs": [],
   "source": [
    "sc = MinMaxScaler(feature_range = (0, 1))\n",
    "training_set_scaled = sc.fit_transform(training_set)"
   ]
  },
  {
   "cell_type": "code",
   "execution_count": 15,
   "metadata": {},
   "outputs": [],
   "source": [
    "X_train = []\n",
    "y_train = []"
   ]
  },
  {
   "cell_type": "code",
   "execution_count": 16,
   "metadata": {},
   "outputs": [],
   "source": [
    "# Every X_train contains <period> values for each y_train\n",
    "for i in range(period, len(training_set_scaled)):\n",
    "    X_train.append(training_set_scaled[i-period: i, 0])\n",
    "    y_train.append(training_set_scaled[i, 0]) "
   ]
  },
  {
   "cell_type": "code",
   "execution_count": 17,
   "metadata": {},
   "outputs": [],
   "source": [
    "X_train, y_train = np.array(X_train), np.array(y_train)"
   ]
  },
  {
   "cell_type": "code",
   "execution_count": 18,
   "metadata": {},
   "outputs": [],
   "source": [
    "X_train = np.reshape(X_train, newshape = (X_train.shape[0], X_train.shape[1], 1))"
   ]
  },
  {
   "cell_type": "code",
   "execution_count": 19,
   "metadata": {},
   "outputs": [],
   "source": [
    "#X_train"
   ]
  },
  {
   "cell_type": "markdown",
   "metadata": {},
   "source": []
  },
  {
   "cell_type": "code",
   "execution_count": 20,
   "metadata": {},
   "outputs": [
    {
     "name": "stdout",
     "output_type": "stream",
     "text": [
      "Epoch 1/100\n",
      "692/692 [==============================] - 4s 5ms/step - loss: 0.0231\n",
      "Epoch 2/100\n",
      "692/692 [==============================] - 2s 3ms/step - loss: 0.0072\n",
      "Epoch 3/100\n",
      "692/692 [==============================] - 2s 3ms/step - loss: 0.0060\n",
      "Epoch 4/100\n",
      "692/692 [==============================] - 2s 3ms/step - loss: 0.0056\n",
      "Epoch 5/100\n",
      "692/692 [==============================] - 2s 3ms/step - loss: 0.0055\n",
      "Epoch 6/100\n",
      "692/692 [==============================] - 2s 3ms/step - loss: 0.0052\n",
      "Epoch 7/100\n",
      "692/692 [==============================] - 2s 3ms/step - loss: 0.0048\n",
      "Epoch 8/100\n",
      "692/692 [==============================] - 2s 3ms/step - loss: 0.0049\n",
      "Epoch 9/100\n",
      "692/692 [==============================] - 2s 3ms/step - loss: 0.0041\n",
      "Epoch 10/100\n",
      "692/692 [==============================] - 2s 3ms/step - loss: 0.0040\n",
      "Epoch 11/100\n",
      "692/692 [==============================] - 2s 3ms/step - loss: 0.0043\n",
      "Epoch 12/100\n",
      "692/692 [==============================] - 2s 3ms/step - loss: 0.0039\n",
      "Epoch 13/100\n",
      "692/692 [==============================] - 2s 3ms/step - loss: 0.0039\n",
      "Epoch 14/100\n",
      "692/692 [==============================] - 2s 3ms/step - loss: 0.0033\n",
      "Epoch 15/100\n",
      "692/692 [==============================] - 2s 3ms/step - loss: 0.0032\n",
      "Epoch 16/100\n",
      "692/692 [==============================] - 2s 3ms/step - loss: 0.0033\n",
      "Epoch 17/100\n",
      "692/692 [==============================] - 2s 3ms/step - loss: 0.0031\n",
      "Epoch 18/100\n",
      "692/692 [==============================] - 2s 3ms/step - loss: 0.0027\n",
      "Epoch 19/100\n",
      "692/692 [==============================] - 2s 3ms/step - loss: 0.0028\n",
      "Epoch 20/100\n",
      "692/692 [==============================] - 2s 3ms/step - loss: 0.0027\n",
      "Epoch 21/100\n",
      "692/692 [==============================] - 2s 3ms/step - loss: 0.0029\n",
      "Epoch 22/100\n",
      "692/692 [==============================] - 2s 3ms/step - loss: 0.0027\n",
      "Epoch 23/100\n",
      "692/692 [==============================] - 2s 3ms/step - loss: 0.0028\n",
      "Epoch 24/100\n",
      "692/692 [==============================] - 2s 3ms/step - loss: 0.0027\n",
      "Epoch 25/100\n",
      "692/692 [==============================] - 2s 3ms/step - loss: 0.0026\n",
      "Epoch 26/100\n",
      "692/692 [==============================] - 2s 3ms/step - loss: 0.0026\n",
      "Epoch 27/100\n",
      "692/692 [==============================] - 2s 3ms/step - loss: 0.0024\n",
      "Epoch 28/100\n",
      "692/692 [==============================] - 2s 3ms/step - loss: 0.0023\n",
      "Epoch 29/100\n",
      "692/692 [==============================] - 2s 3ms/step - loss: 0.0023\n",
      "Epoch 30/100\n",
      "692/692 [==============================] - 2s 3ms/step - loss: 0.0024\n",
      "Epoch 31/100\n",
      "692/692 [==============================] - 2s 3ms/step - loss: 0.0022\n",
      "Epoch 32/100\n",
      "692/692 [==============================] - 2s 3ms/step - loss: 0.0022\n",
      "Epoch 33/100\n",
      "692/692 [==============================] - 2s 3ms/step - loss: 0.0021\n",
      "Epoch 34/100\n",
      "692/692 [==============================] - 2s 3ms/step - loss: 0.0018\n",
      "Epoch 35/100\n",
      "692/692 [==============================] - 2s 3ms/step - loss: 0.0020\n",
      "Epoch 36/100\n",
      "692/692 [==============================] - 2s 3ms/step - loss: 0.0020\n",
      "Epoch 37/100\n",
      "692/692 [==============================] - 2s 3ms/step - loss: 0.0021\n",
      "Epoch 38/100\n",
      "692/692 [==============================] - 2s 3ms/step - loss: 0.0020\n",
      "Epoch 39/100\n",
      "692/692 [==============================] - 2s 3ms/step - loss: 0.0016\n",
      "Epoch 40/100\n",
      "692/692 [==============================] - 2s 3ms/step - loss: 0.0019\n",
      "Epoch 41/100\n",
      "692/692 [==============================] - 2s 3ms/step - loss: 0.0020\n",
      "Epoch 42/100\n",
      "692/692 [==============================] - 2s 3ms/step - loss: 0.0018\n",
      "Epoch 43/100\n",
      "692/692 [==============================] - 2s 3ms/step - loss: 0.0016\n",
      "Epoch 44/100\n",
      "692/692 [==============================] - 2s 3ms/step - loss: 0.0016\n",
      "Epoch 45/100\n",
      "692/692 [==============================] - 2s 3ms/step - loss: 0.0016\n",
      "Epoch 46/100\n",
      "692/692 [==============================] - 2s 3ms/step - loss: 0.0016\n",
      "Epoch 47/100\n",
      "692/692 [==============================] - 2s 3ms/step - loss: 0.0015\n",
      "Epoch 48/100\n",
      "692/692 [==============================] - 2s 3ms/step - loss: 0.0016\n",
      "Epoch 49/100\n",
      "692/692 [==============================] - 2s 3ms/step - loss: 0.0018\n",
      "Epoch 50/100\n",
      "692/692 [==============================] - 2s 3ms/step - loss: 0.0017\n",
      "Epoch 51/100\n",
      "692/692 [==============================] - 2s 3ms/step - loss: 0.0015\n",
      "Epoch 52/100\n",
      "692/692 [==============================] - 2s 3ms/step - loss: 0.0016\n",
      "Epoch 53/100\n",
      "692/692 [==============================] - 2s 3ms/step - loss: 0.0017\n",
      "Epoch 54/100\n",
      "692/692 [==============================] - 2s 3ms/step - loss: 0.0016\n",
      "Epoch 55/100\n",
      "692/692 [==============================] - 2s 3ms/step - loss: 0.0016\n",
      "Epoch 56/100\n",
      "692/692 [==============================] - 2s 3ms/step - loss: 0.0014\n",
      "Epoch 57/100\n",
      "692/692 [==============================] - 2s 3ms/step - loss: 0.0014\n",
      "Epoch 58/100\n",
      "692/692 [==============================] - 2s 3ms/step - loss: 0.0015\n",
      "Epoch 59/100\n",
      "692/692 [==============================] - 2s 3ms/step - loss: 0.0014\n",
      "Epoch 60/100\n",
      "692/692 [==============================] - 2s 3ms/step - loss: 0.0013\n",
      "Epoch 61/100\n",
      "692/692 [==============================] - 2s 3ms/step - loss: 0.0012\n",
      "Epoch 62/100\n",
      "692/692 [==============================] - 2s 3ms/step - loss: 0.0014\n",
      "Epoch 63/100\n",
      "692/692 [==============================] - 2s 3ms/step - loss: 0.0014\n",
      "Epoch 64/100\n",
      "692/692 [==============================] - 2s 3ms/step - loss: 0.0014\n",
      "Epoch 65/100\n",
      "692/692 [==============================] - 2s 3ms/step - loss: 0.0014\n",
      "Epoch 66/100\n",
      "692/692 [==============================] - 2s 3ms/step - loss: 0.0012\n",
      "Epoch 67/100\n",
      "692/692 [==============================] - 2s 3ms/step - loss: 0.0014\n",
      "Epoch 68/100\n",
      "692/692 [==============================] - 2s 3ms/step - loss: 0.0014\n",
      "Epoch 69/100\n",
      "692/692 [==============================] - 2s 3ms/step - loss: 0.0012\n",
      "Epoch 70/100\n",
      "692/692 [==============================] - 2s 3ms/step - loss: 0.0012\n",
      "Epoch 71/100\n",
      "692/692 [==============================] - 2s 3ms/step - loss: 0.0012\n",
      "Epoch 72/100\n",
      "692/692 [==============================] - 2s 3ms/step - loss: 0.0012\n",
      "Epoch 73/100\n",
      "692/692 [==============================] - 2s 3ms/step - loss: 0.0013\n",
      "Epoch 74/100\n",
      "692/692 [==============================] - 2s 3ms/step - loss: 0.0011\n",
      "Epoch 75/100\n",
      "692/692 [==============================] - 2s 3ms/step - loss: 0.0013\n",
      "Epoch 76/100\n",
      "692/692 [==============================] - 2s 3ms/step - loss: 0.0013\n",
      "Epoch 77/100\n",
      "692/692 [==============================] - 2s 3ms/step - loss: 0.0012\n",
      "Epoch 78/100\n",
      "692/692 [==============================] - 2s 3ms/step - loss: 0.0012\n",
      "Epoch 79/100\n",
      "692/692 [==============================] - 2s 3ms/step - loss: 0.0014\n",
      "Epoch 80/100\n",
      "692/692 [==============================] - 2s 3ms/step - loss: 0.0011\n",
      "Epoch 81/100\n",
      "692/692 [==============================] - 2s 3ms/step - loss: 0.0012\n",
      "Epoch 82/100\n",
      "692/692 [==============================] - 2s 3ms/step - loss: 0.0013\n",
      "Epoch 83/100\n",
      "692/692 [==============================] - 2s 3ms/step - loss: 0.0012\n",
      "Epoch 84/100\n",
      "692/692 [==============================] - 2s 3ms/step - loss: 0.0012\n",
      "Epoch 85/100\n",
      "692/692 [==============================] - 2s 3ms/step - loss: 0.0012\n",
      "Epoch 86/100\n",
      "692/692 [==============================] - 2s 3ms/step - loss: 0.0012\n",
      "Epoch 87/100\n",
      "692/692 [==============================] - 2s 3ms/step - loss: 0.0013\n",
      "Epoch 88/100\n",
      "692/692 [==============================] - 2s 3ms/step - loss: 0.0011\n",
      "Epoch 89/100\n",
      "692/692 [==============================] - 2s 3ms/step - loss: 0.0013\n",
      "Epoch 90/100\n",
      "692/692 [==============================] - 2s 3ms/step - loss: 0.0011\n",
      "Epoch 91/100\n",
      "692/692 [==============================] - 2s 3ms/step - loss: 0.0011\n",
      "Epoch 92/100\n",
      "692/692 [==============================] - 2s 3ms/step - loss: 0.0010\n",
      "Epoch 93/100\n",
      "692/692 [==============================] - 2s 3ms/step - loss: 0.0011\n",
      "Epoch 94/100\n",
      "692/692 [==============================] - 2s 3ms/step - loss: 0.0010\n",
      "Epoch 95/100\n",
      "692/692 [==============================] - 2s 3ms/step - loss: 9.9694e-04\n",
      "Epoch 96/100\n",
      "692/692 [==============================] - 2s 3ms/step - loss: 0.0011\n",
      "Epoch 97/100\n",
      "692/692 [==============================] - 2s 3ms/step - loss: 0.0011\n",
      "Epoch 98/100\n",
      "692/692 [==============================] - 2s 3ms/step - loss: 0.0010\n",
      "Epoch 99/100\n"
     ]
    },
    {
     "name": "stdout",
     "output_type": "stream",
     "text": [
      "692/692 [==============================] - 2s 3ms/step - loss: 9.3908e-04\n",
      "Epoch 100/100\n",
      "692/692 [==============================] - 2s 3ms/step - loss: 0.0012\n"
     ]
    },
    {
     "data": {
      "text/plain": [
       "<keras.callbacks.History at 0x1224bac18>"
      ]
     },
     "execution_count": 20,
     "metadata": {},
     "output_type": "execute_result"
    }
   ],
   "source": [
    "model = Sequential()\n",
    "model.add(LSTM(units = 50, return_sequences = True, input_shape = (X_train.shape[1], 1)))\n",
    "model.add(Dropout(0.2))\n",
    "model.add(LSTM(units = 50, return_sequences = True))\n",
    "model.add(Dropout(0.2))\n",
    "model.add(LSTM(units = 50, return_sequences = True))\n",
    "model.add(Dropout(0.2))\n",
    "model.add(LSTM(units = 50))\n",
    "model.add(Dropout(0.2))\n",
    "model.add(Dense(units = 1))\n",
    "model.compile(optimizer = 'adam', loss = 'mean_squared_error')\n",
    "\n",
    "model.fit(X_train, y_train, epochs = 100, batch_size = 32)"
   ]
  },
  {
   "cell_type": "code",
   "execution_count": null,
   "metadata": {},
   "outputs": [],
   "source": []
  },
  {
   "cell_type": "code",
   "execution_count": 21,
   "metadata": {},
   "outputs": [],
   "source": [
    "inputs = data"
   ]
  },
  {
   "cell_type": "code",
   "execution_count": 22,
   "metadata": {},
   "outputs": [],
   "source": [
    "inputs = inputs.iloc[:,0:1].values"
   ]
  },
  {
   "cell_type": "code",
   "execution_count": 23,
   "metadata": {},
   "outputs": [],
   "source": [
    "inputs = sc.fit_transform(inputs)"
   ]
  },
  {
   "cell_type": "code",
   "execution_count": 24,
   "metadata": {},
   "outputs": [],
   "source": [
    "X_test = []\n",
    "y_test = []\n",
    "for i in range(period, len(inputs)): \n",
    "    X_test.append(inputs[i-period: i, 0])\n",
    "    y_test.append(inputs[i, 0]) \n",
    "    #print(len(X_test))\n"
   ]
  },
  {
   "cell_type": "code",
   "execution_count": null,
   "metadata": {},
   "outputs": [],
   "source": []
  },
  {
   "cell_type": "code",
   "execution_count": null,
   "metadata": {},
   "outputs": [],
   "source": []
  },
  {
   "cell_type": "code",
   "execution_count": 25,
   "metadata": {},
   "outputs": [],
   "source": [
    "X_test,y_test = np.array(X_test), np.array(y_test)"
   ]
  },
  {
   "cell_type": "code",
   "execution_count": 26,
   "metadata": {},
   "outputs": [],
   "source": [
    "#len(X_test)"
   ]
  },
  {
   "cell_type": "code",
   "execution_count": null,
   "metadata": {},
   "outputs": [],
   "source": []
  },
  {
   "cell_type": "code",
   "execution_count": null,
   "metadata": {},
   "outputs": [],
   "source": []
  },
  {
   "cell_type": "code",
   "execution_count": 27,
   "metadata": {},
   "outputs": [],
   "source": [
    "X_test = np.reshape(X_test, newshape = (X_test.shape[0], X_test.shape[1], 1))"
   ]
  },
  {
   "cell_type": "code",
   "execution_count": 28,
   "metadata": {},
   "outputs": [],
   "source": [
    "predicted_price = model.predict(X_test)"
   ]
  },
  {
   "cell_type": "code",
   "execution_count": 29,
   "metadata": {},
   "outputs": [],
   "source": [
    "predicted_price = sc.inverse_transform(predicted_price)"
   ]
  },
  {
   "cell_type": "code",
   "execution_count": 30,
   "metadata": {},
   "outputs": [],
   "source": [
    "real_price = data['Open'].values"
   ]
  },
  {
   "cell_type": "code",
   "execution_count": 31,
   "metadata": {},
   "outputs": [],
   "source": [
    "real_price = real_price[20:]"
   ]
  },
  {
   "cell_type": "code",
   "execution_count": 32,
   "metadata": {},
   "outputs": [],
   "source": [
    "import matplotlib.pyplot as plt"
   ]
  },
  {
   "cell_type": "code",
   "execution_count": null,
   "metadata": {},
   "outputs": [],
   "source": []
  },
  {
   "cell_type": "code",
   "execution_count": 33,
   "metadata": {},
   "outputs": [
    {
     "data": {
      "image/png": "[encoded data removed]",
      "text/plain": [
       "<matplotlib.figure.Figure at 0x1253317f0>"
      ]
     },
     "metadata": {},
     "output_type": "display_data"
    }
   ],
   "source": [
    "plt.subplots(figsize=(20, 10))\n",
    "plt.plot(real_price, color = 'red', label = 'Real price')\n",
    "plt.plot(predicted_price, color = 'blue', label = 'Predicted price')\n",
    "plt.title('Bitcoin price prediction')\n",
    "plt.xlabel('Time')\n",
    "plt.ylabel('Price')\n",
    "plt.legend()\n",
    "\n",
    "plt.show()"
   ]
  },
  {
   "cell_type": "code",
   "execution_count": null,
   "metadata": {},
   "outputs": [],
   "source": []
  },
  {
   "cell_type": "code",
   "execution_count": null,
   "metadata": {},
   "outputs": [],
   "source": []
  },
  {
   "cell_type": "code",
   "execution_count": 34,
   "metadata": {},
   "outputs": [],
   "source": [
    "#real_price"
   ]
  },
  {
   "cell_type": "code",
   "execution_count": 35,
   "metadata": {},
   "outputs": [
    {
     "name": "stdout",
     "output_type": "stream",
     "text": [
      "712/712 [==============================] - 1s 992us/step\n",
      "Loss: 0.0006852818489809825\n"
     ]
    }
   ],
   "source": [
    "loss  = model.evaluate(X_test, y_test,  batch_size=32)\n",
    "print('Loss:', loss)\n"
   ]
  },
  {
   "cell_type": "code",
   "execution_count": null,
   "metadata": {},
   "outputs": [],
   "source": []
  },
  {
   "cell_type": "code",
   "execution_count": null,
   "metadata": {},
   "outputs": [],
   "source": [
    "#X_test[-1]"
   ]
  },
  {
   "cell_type": "code",
   "execution_count": null,
   "metadata": {},
   "outputs": [],
   "source": [
    "#sc.inverse_transform(model.predict(np.array([X_test[-1]])))"
   ]
  },
  {
   "cell_type": "code",
   "execution_count": null,
   "metadata": {},
   "outputs": [],
   "source": []
  }
 ],
 "metadata": {
  "kernelspec": {
   "display_name": "Python 3",
   "language": "python",
   "name": "python3"
  },
  "language_info": {
   "codemirror_mode": {
    "name": "ipython",
    "version": 3
   },
   "file_extension": ".py",
   "mimetype": "text/x-python",
   "name": "python",
   "nbconvert_exporter": "python",
   "pygments_lexer": "ipython3",
   "version": "3.6.4"
  }
 },
 "nbformat": 4,
 "nbformat_minor": 2
}
