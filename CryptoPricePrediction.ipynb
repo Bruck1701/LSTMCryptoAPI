{
 "cells": [
  {
   "cell_type": "code",
   "execution_count": 1,
   "metadata": {},
   "outputs": [],
   "source": [
    "import pandas as pd"
   ]
  },
  {
   "cell_type": "code",
   "execution_count": 2,
   "metadata": {},
   "outputs": [],
   "source": [
    "from dateutil.relativedelta import relativedelta"
   ]
  },
  {
   "cell_type": "code",
   "execution_count": 3,
   "metadata": {},
   "outputs": [],
   "source": [
    "from datetime import datetime, timedelta"
   ]
  },
  {
   "cell_type": "code",
   "execution_count": 4,
   "metadata": {},
   "outputs": [],
   "source": [
    "import yfinance as yf"
   ]
  },
  {
   "cell_type": "code",
   "execution_count": 6,
   "metadata": {},
   "outputs": [],
   "source": [
    "from keras.models import Sequential\n",
    "from keras.layers import Dense\n",
    "from keras.layers import LSTM\n",
    "from keras.layers import Dropout"
   ]
  },
  {
   "cell_type": "code",
   "execution_count": null,
   "metadata": {},
   "outputs": [],
   "source": []
  },
  {
   "cell_type": "markdown",
   "metadata": {},
   "source": [
    "# Collect the data to train the model"
   ]
  },
  {
   "cell_type": "code",
   "execution_count": 7,
   "metadata": {},
   "outputs": [],
   "source": [
    "today = datetime.today().strftime(\"%Y-%m-%d\")\n",
    "previous_date = (datetime.today() - relativedelta(years=2)).strftime(\"%Y-%m-%d\")"
   ]
  },
  {
   "cell_type": "code",
   "execution_count": 8,
   "metadata": {},
   "outputs": [
    {
     "name": "stdout",
     "output_type": "stream",
     "text": [
      "[*********************100%***********************]  1 of 1 completed\n"
     ]
    }
   ],
   "source": [
    "data = yf.download(\"btc-usd\", start=previous_date, end=today)"
   ]
  },
  {
   "cell_type": "code",
   "execution_count": 9,
   "metadata": {},
   "outputs": [
    {
     "data": {
      "text/html": [
       "<div>\n",
       "<style scoped>\n",
       "    .dataframe tbody tr th:only-of-type {\n",
       "        vertical-align: middle;\n",
       "    }\n",
       "\n",
       "    .dataframe tbody tr th {\n",
       "        vertical-align: top;\n",
       "    }\n",
       "\n",
       "    .dataframe thead th {\n",
       "        text-align: right;\n",
       "    }\n",
       "</style>\n",
       "<table border=\"1\" class=\"dataframe\">\n",
       "  <thead>\n",
       "    <tr style=\"text-align: right;\">\n",
       "      <th></th>\n",
       "      <th>Open</th>\n",
       "      <th>High</th>\n",
       "      <th>Low</th>\n",
       "      <th>Close</th>\n",
       "      <th>Adj Close</th>\n",
       "      <th>Volume</th>\n",
       "    </tr>\n",
       "    <tr>\n",
       "      <th>Date</th>\n",
       "      <th></th>\n",
       "      <th></th>\n",
       "      <th></th>\n",
       "      <th></th>\n",
       "      <th></th>\n",
       "      <th></th>\n",
       "    </tr>\n",
       "  </thead>\n",
       "  <tbody>\n",
       "    <tr>\n",
       "      <th>2018-07-09</th>\n",
       "      <td>6775.080078</td>\n",
       "      <td>6838.680176</td>\n",
       "      <td>6724.339844</td>\n",
       "      <td>6741.750000</td>\n",
       "      <td>6741.750000</td>\n",
       "      <td>3718129920</td>\n",
       "    </tr>\n",
       "    <tr>\n",
       "      <th>2018-07-10</th>\n",
       "      <td>6739.209961</td>\n",
       "      <td>6767.740234</td>\n",
       "      <td>6320.720215</td>\n",
       "      <td>6329.950195</td>\n",
       "      <td>6329.950195</td>\n",
       "      <td>4052430080</td>\n",
       "    </tr>\n",
       "    <tr>\n",
       "      <th>2018-07-11</th>\n",
       "      <td>6330.770020</td>\n",
       "      <td>6444.959961</td>\n",
       "      <td>6330.470215</td>\n",
       "      <td>6394.709961</td>\n",
       "      <td>6394.709961</td>\n",
       "      <td>3644859904</td>\n",
       "    </tr>\n",
       "    <tr>\n",
       "      <th>2018-07-12</th>\n",
       "      <td>6396.779785</td>\n",
       "      <td>6397.100098</td>\n",
       "      <td>6136.419922</td>\n",
       "      <td>6228.810059</td>\n",
       "      <td>6228.810059</td>\n",
       "      <td>3770170112</td>\n",
       "    </tr>\n",
       "    <tr>\n",
       "      <th>2018-07-13</th>\n",
       "      <td>6235.029785</td>\n",
       "      <td>6310.549805</td>\n",
       "      <td>6192.240234</td>\n",
       "      <td>6238.049805</td>\n",
       "      <td>6238.049805</td>\n",
       "      <td>3805400064</td>\n",
       "    </tr>\n",
       "    <tr>\n",
       "      <th>...</th>\n",
       "      <td>...</td>\n",
       "      <td>...</td>\n",
       "      <td>...</td>\n",
       "      <td>...</td>\n",
       "      <td>...</td>\n",
       "      <td>...</td>\n",
       "    </tr>\n",
       "    <tr>\n",
       "      <th>2020-07-05</th>\n",
       "      <td>9126.090820</td>\n",
       "      <td>9162.183594</td>\n",
       "      <td>8977.015625</td>\n",
       "      <td>9073.942383</td>\n",
       "      <td>9073.942383</td>\n",
       "      <td>12903406143</td>\n",
       "    </tr>\n",
       "    <tr>\n",
       "      <th>2020-07-06</th>\n",
       "      <td>9072.849609</td>\n",
       "      <td>9375.474609</td>\n",
       "      <td>9058.664062</td>\n",
       "      <td>9375.474609</td>\n",
       "      <td>9375.474609</td>\n",
       "      <td>17889263251</td>\n",
       "    </tr>\n",
       "    <tr>\n",
       "      <th>2020-07-07</th>\n",
       "      <td>9349.161133</td>\n",
       "      <td>9360.617188</td>\n",
       "      <td>9201.815430</td>\n",
       "      <td>9252.277344</td>\n",
       "      <td>9252.277344</td>\n",
       "      <td>13839652594</td>\n",
       "    </tr>\n",
       "    <tr>\n",
       "      <th>2020-07-08</th>\n",
       "      <td>9253.020508</td>\n",
       "      <td>9450.335938</td>\n",
       "      <td>9249.500000</td>\n",
       "      <td>9428.333008</td>\n",
       "      <td>9428.333008</td>\n",
       "      <td>19702359882</td>\n",
       "    </tr>\n",
       "    <tr>\n",
       "      <th>2020-07-09</th>\n",
       "      <td>9427.994141</td>\n",
       "      <td>9431.378906</td>\n",
       "      <td>9234.999023</td>\n",
       "      <td>9277.967773</td>\n",
       "      <td>9277.967773</td>\n",
       "      <td>18000702524</td>\n",
       "    </tr>\n",
       "  </tbody>\n",
       "</table>\n",
       "<p>732 rows × 6 columns</p>\n",
       "</div>"
      ],
      "text/plain": [
       "                   Open         High          Low        Close    Adj Close  \\\n",
       "Date                                                                          \n",
       "2018-07-09  6775.080078  6838.680176  6724.339844  6741.750000  6741.750000   \n",
       "2018-07-10  6739.209961  6767.740234  6320.720215  6329.950195  6329.950195   \n",
       "2018-07-11  6330.770020  6444.959961  6330.470215  6394.709961  6394.709961   \n",
       "2018-07-12  6396.779785  6397.100098  6136.419922  6228.810059  6228.810059   \n",
       "2018-07-13  6235.029785  6310.549805  6192.240234  6238.049805  6238.049805   \n",
       "...                 ...          ...          ...          ...          ...   \n",
       "2020-07-05  9126.090820  9162.183594  8977.015625  9073.942383  9073.942383   \n",
       "2020-07-06  9072.849609  9375.474609  9058.664062  9375.474609  9375.474609   \n",
       "2020-07-07  9349.161133  9360.617188  9201.815430  9252.277344  9252.277344   \n",
       "2020-07-08  9253.020508  9450.335938  9249.500000  9428.333008  9428.333008   \n",
       "2020-07-09  9427.994141  9431.378906  9234.999023  9277.967773  9277.967773   \n",
       "\n",
       "                 Volume  \n",
       "Date                     \n",
       "2018-07-09   3718129920  \n",
       "2018-07-10   4052430080  \n",
       "2018-07-11   3644859904  \n",
       "2018-07-12   3770170112  \n",
       "2018-07-13   3805400064  \n",
       "...                 ...  \n",
       "2020-07-05  12903406143  \n",
       "2020-07-06  17889263251  \n",
       "2020-07-07  13839652594  \n",
       "2020-07-08  19702359882  \n",
       "2020-07-09  18000702524  \n",
       "\n",
       "[732 rows x 6 columns]"
      ]
     },
     "execution_count": 9,
     "metadata": {},
     "output_type": "execute_result"
    }
   ],
   "source": [
    "data"
   ]
  },
  {
   "cell_type": "code",
   "execution_count": 10,
   "metadata": {},
   "outputs": [],
   "source": [
    "from sklearn.preprocessing import MinMaxScaler\n"
   ]
  },
  {
   "cell_type": "code",
   "execution_count": 11,
   "metadata": {},
   "outputs": [],
   "source": [
    "import numpy as np"
   ]
  },
  {
   "cell_type": "markdown",
   "metadata": {},
   "source": [
    "# Period of time of previous prices to predict the next one."
   ]
  },
  {
   "cell_type": "code",
   "execution_count": 12,
   "metadata": {},
   "outputs": [],
   "source": [
    "period = 20"
   ]
  },
  {
   "cell_type": "code",
   "execution_count": null,
   "metadata": {},
   "outputs": [],
   "source": []
  },
  {
   "cell_type": "code",
   "execution_count": 15,
   "metadata": {},
   "outputs": [],
   "source": [
    "training_set = data[0:-period]\n",
    "test_set  = data[len(data)-period:]"
   ]
  },
  {
   "cell_type": "code",
   "execution_count": 16,
   "metadata": {},
   "outputs": [],
   "source": [
    "training_set=training_set.iloc[:,0:1].values"
   ]
  },
  {
   "cell_type": "markdown",
   "metadata": {},
   "source": [
    "# Scale the values to be in range of (0,1)\n",
    "### Numerical stability results in better models for LSTM"
   ]
  },
  {
   "cell_type": "code",
   "execution_count": 17,
   "metadata": {},
   "outputs": [],
   "source": [
    "sc = MinMaxScaler(feature_range = (0, 1))\n",
    "training_set_scaled = sc.fit_transform(training_set)"
   ]
  },
  {
   "cell_type": "code",
   "execution_count": 18,
   "metadata": {},
   "outputs": [],
   "source": [
    "X_train = []\n",
    "y_train = []"
   ]
  },
  {
   "cell_type": "code",
   "execution_count": 19,
   "metadata": {},
   "outputs": [],
   "source": [
    "# Every X_train contains <period> values for each y_train\n",
    "for i in range(period, len(training_set_scaled)):\n",
    "    X_train.append(training_set_scaled[i-period: i, 0])\n",
    "    y_train.append(training_set_scaled[i, 0]) "
   ]
  },
  {
   "cell_type": "code",
   "execution_count": 20,
   "metadata": {},
   "outputs": [],
   "source": [
    "X_train, y_train = np.array(X_train), np.array(y_train)"
   ]
  },
  {
   "cell_type": "code",
   "execution_count": 21,
   "metadata": {},
   "outputs": [],
   "source": [
    "X_train = np.reshape(X_train, newshape = (X_train.shape[0], X_train.shape[1], 1))"
   ]
  },
  {
   "cell_type": "code",
   "execution_count": 28,
   "metadata": {},
   "outputs": [],
   "source": [
    "#X_train"
   ]
  },
  {
   "cell_type": "markdown",
   "metadata": {},
   "source": []
  },
  {
   "cell_type": "code",
   "execution_count": 29,
   "metadata": {},
   "outputs": [
    {
     "name": "stdout",
     "output_type": "stream",
     "text": [
      "Epoch 1/100\n",
      "692/692 [==============================] - 3s 5ms/step - loss: 0.0587\n",
      "Epoch 2/100\n",
      "692/692 [==============================] - 2s 3ms/step - loss: 0.0150\n",
      "Epoch 3/100\n",
      "692/692 [==============================] - 2s 3ms/step - loss: 0.0116\n",
      "Epoch 4/100\n",
      "692/692 [==============================] - 2s 3ms/step - loss: 0.0099\n",
      "Epoch 5/100\n",
      "692/692 [==============================] - 2s 3ms/step - loss: 0.0099\n",
      "Epoch 6/100\n",
      "692/692 [==============================] - 2s 3ms/step - loss: 0.0100\n",
      "Epoch 7/100\n",
      "692/692 [==============================] - 2s 3ms/step - loss: 0.0096\n",
      "Epoch 8/100\n",
      "692/692 [==============================] - 2s 3ms/step - loss: 0.0089\n",
      "Epoch 9/100\n",
      "692/692 [==============================] - 2s 3ms/step - loss: 0.0104\n",
      "Epoch 10/100\n",
      "692/692 [==============================] - 2s 3ms/step - loss: 0.0084\n",
      "Epoch 11/100\n",
      "692/692 [==============================] - 2s 3ms/step - loss: 0.0082\n",
      "Epoch 12/100\n",
      "692/692 [==============================] - 2s 3ms/step - loss: 0.0074\n",
      "Epoch 13/100\n",
      "692/692 [==============================] - 2s 3ms/step - loss: 0.0076\n",
      "Epoch 14/100\n",
      "692/692 [==============================] - 2s 3ms/step - loss: 0.0067\n",
      "Epoch 15/100\n",
      "692/692 [==============================] - 2s 3ms/step - loss: 0.0075\n",
      "Epoch 16/100\n",
      "692/692 [==============================] - 2s 3ms/step - loss: 0.0068\n",
      "Epoch 17/100\n",
      "692/692 [==============================] - 2s 3ms/step - loss: 0.0067\n",
      "Epoch 18/100\n",
      "692/692 [==============================] - 2s 3ms/step - loss: 0.0060\n",
      "Epoch 19/100\n",
      "692/692 [==============================] - 2s 3ms/step - loss: 0.0063\n",
      "Epoch 20/100\n",
      "692/692 [==============================] - 2s 3ms/step - loss: 0.0062\n",
      "Epoch 21/100\n",
      "692/692 [==============================] - 2s 3ms/step - loss: 0.0060\n",
      "Epoch 22/100\n",
      "692/692 [==============================] - 2s 3ms/step - loss: 0.0066\n",
      "Epoch 23/100\n",
      "692/692 [==============================] - 2s 3ms/step - loss: 0.0058\n",
      "Epoch 24/100\n",
      "692/692 [==============================] - 2s 3ms/step - loss: 0.0056\n",
      "Epoch 25/100\n",
      "692/692 [==============================] - 2s 3ms/step - loss: 0.0058\n",
      "Epoch 26/100\n",
      "692/692 [==============================] - 2s 3ms/step - loss: 0.0056\n",
      "Epoch 27/100\n",
      "692/692 [==============================] - 2s 3ms/step - loss: 0.0054\n",
      "Epoch 28/100\n",
      "692/692 [==============================] - 2s 3ms/step - loss: 0.0057\n",
      "Epoch 29/100\n",
      "692/692 [==============================] - 2s 3ms/step - loss: 0.0050\n",
      "Epoch 30/100\n",
      "692/692 [==============================] - 2s 4ms/step - loss: 0.0050\n",
      "Epoch 31/100\n",
      "692/692 [==============================] - 2s 3ms/step - loss: 0.0044\n",
      "Epoch 32/100\n",
      "692/692 [==============================] - 2s 3ms/step - loss: 0.0047\n",
      "Epoch 33/100\n",
      "692/692 [==============================] - 2s 3ms/step - loss: 0.0046\n",
      "Epoch 34/100\n",
      "692/692 [==============================] - 2s 3ms/step - loss: 0.0045\n",
      "Epoch 35/100\n",
      "692/692 [==============================] - 2s 3ms/step - loss: 0.0044\n",
      "Epoch 36/100\n",
      "692/692 [==============================] - 2s 3ms/step - loss: 0.0040\n",
      "Epoch 37/100\n",
      "692/692 [==============================] - 2s 3ms/step - loss: 0.0039\n",
      "Epoch 38/100\n",
      "692/692 [==============================] - 2s 3ms/step - loss: 0.0042\n",
      "Epoch 39/100\n",
      "692/692 [==============================] - 2s 3ms/step - loss: 0.0044\n",
      "Epoch 40/100\n",
      "692/692 [==============================] - 2s 3ms/step - loss: 0.0039\n",
      "Epoch 41/100\n",
      "692/692 [==============================] - 2s 3ms/step - loss: 0.0037\n",
      "Epoch 42/100\n",
      "692/692 [==============================] - 2s 3ms/step - loss: 0.0037\n",
      "Epoch 43/100\n",
      "692/692 [==============================] - 2s 3ms/step - loss: 0.0039\n",
      "Epoch 44/100\n",
      "692/692 [==============================] - 2s 3ms/step - loss: 0.0035\n",
      "Epoch 45/100\n",
      "692/692 [==============================] - 2s 3ms/step - loss: 0.0037\n",
      "Epoch 46/100\n",
      "692/692 [==============================] - 2s 3ms/step - loss: 0.0034\n",
      "Epoch 47/100\n",
      "692/692 [==============================] - 2s 3ms/step - loss: 0.0041\n",
      "Epoch 48/100\n",
      "692/692 [==============================] - 2s 3ms/step - loss: 0.0042\n",
      "Epoch 49/100\n",
      "692/692 [==============================] - 2s 3ms/step - loss: 0.0033\n",
      "Epoch 50/100\n",
      "692/692 [==============================] - 2s 3ms/step - loss: 0.0032\n",
      "Epoch 51/100\n",
      "692/692 [==============================] - 2s 3ms/step - loss: 0.0034\n",
      "Epoch 52/100\n",
      "692/692 [==============================] - 2s 3ms/step - loss: 0.0032\n",
      "Epoch 53/100\n",
      "692/692 [==============================] - 2s 3ms/step - loss: 0.0036\n",
      "Epoch 54/100\n",
      "692/692 [==============================] - 2s 3ms/step - loss: 0.0034\n",
      "Epoch 55/100\n",
      "692/692 [==============================] - 2s 3ms/step - loss: 0.0031\n",
      "Epoch 56/100\n",
      "692/692 [==============================] - 2s 3ms/step - loss: 0.0032\n",
      "Epoch 57/100\n",
      "692/692 [==============================] - 2s 3ms/step - loss: 0.0033\n",
      "Epoch 58/100\n",
      "692/692 [==============================] - 2s 3ms/step - loss: 0.0034\n",
      "Epoch 59/100\n",
      "692/692 [==============================] - 2s 3ms/step - loss: 0.0031\n",
      "Epoch 60/100\n",
      "692/692 [==============================] - 2s 3ms/step - loss: 0.0027\n",
      "Epoch 61/100\n",
      "692/692 [==============================] - 2s 3ms/step - loss: 0.0029\n",
      "Epoch 62/100\n",
      "692/692 [==============================] - 2s 3ms/step - loss: 0.0028\n",
      "Epoch 63/100\n",
      "692/692 [==============================] - 2s 3ms/step - loss: 0.0029\n",
      "Epoch 64/100\n",
      "692/692 [==============================] - 2s 3ms/step - loss: 0.0029\n",
      "Epoch 65/100\n",
      "692/692 [==============================] - 2s 3ms/step - loss: 0.0028\n",
      "Epoch 66/100\n",
      "692/692 [==============================] - 2s 3ms/step - loss: 0.0030\n",
      "Epoch 67/100\n",
      "692/692 [==============================] - 2s 3ms/step - loss: 0.0028\n",
      "Epoch 68/100\n",
      "692/692 [==============================] - 2s 3ms/step - loss: 0.0025\n",
      "Epoch 69/100\n",
      "692/692 [==============================] - 2s 3ms/step - loss: 0.0036\n",
      "Epoch 70/100\n",
      "692/692 [==============================] - 2s 3ms/step - loss: 0.0032\n",
      "Epoch 71/100\n",
      "692/692 [==============================] - 2s 3ms/step - loss: 0.0030\n",
      "Epoch 72/100\n",
      "692/692 [==============================] - 2s 3ms/step - loss: 0.0025\n",
      "Epoch 73/100\n",
      "692/692 [==============================] - 2s 3ms/step - loss: 0.0026\n",
      "Epoch 74/100\n",
      "692/692 [==============================] - 2s 3ms/step - loss: 0.0023\n",
      "Epoch 75/100\n",
      "692/692 [==============================] - 2s 3ms/step - loss: 0.0024\n",
      "Epoch 76/100\n",
      "692/692 [==============================] - 2s 3ms/step - loss: 0.0027\n",
      "Epoch 77/100\n",
      "692/692 [==============================] - 2s 3ms/step - loss: 0.0029\n",
      "Epoch 78/100\n",
      "692/692 [==============================] - 2s 3ms/step - loss: 0.0027\n",
      "Epoch 79/100\n",
      "692/692 [==============================] - 2s 3ms/step - loss: 0.0024\n",
      "Epoch 80/100\n",
      "692/692 [==============================] - 2s 3ms/step - loss: 0.0031\n",
      "Epoch 81/100\n",
      "692/692 [==============================] - 2s 3ms/step - loss: 0.0027\n",
      "Epoch 82/100\n",
      "692/692 [==============================] - 2s 3ms/step - loss: 0.0027\n",
      "Epoch 83/100\n",
      "692/692 [==============================] - 2s 3ms/step - loss: 0.0023\n",
      "Epoch 84/100\n",
      "692/692 [==============================] - 2s 3ms/step - loss: 0.0024\n",
      "Epoch 85/100\n",
      "692/692 [==============================] - 2s 3ms/step - loss: 0.0026\n",
      "Epoch 86/100\n",
      "692/692 [==============================] - 2s 3ms/step - loss: 0.0022\n",
      "Epoch 87/100\n",
      "692/692 [==============================] - 2s 3ms/step - loss: 0.0024\n",
      "Epoch 88/100\n",
      "692/692 [==============================] - 2s 3ms/step - loss: 0.0024\n",
      "Epoch 89/100\n",
      "692/692 [==============================] - 2s 3ms/step - loss: 0.0023\n",
      "Epoch 90/100\n",
      "692/692 [==============================] - 2s 3ms/step - loss: 0.0024\n",
      "Epoch 91/100\n",
      "692/692 [==============================] - 2s 3ms/step - loss: 0.0023\n",
      "Epoch 92/100\n",
      "692/692 [==============================] - 2s 3ms/step - loss: 0.0026\n",
      "Epoch 93/100\n",
      "692/692 [==============================] - 2s 3ms/step - loss: 0.0026\n",
      "Epoch 94/100\n",
      "692/692 [==============================] - 2s 3ms/step - loss: 0.0024\n",
      "Epoch 95/100\n",
      "692/692 [==============================] - 2s 3ms/step - loss: 0.0021\n",
      "Epoch 96/100\n",
      "692/692 [==============================] - 2s 3ms/step - loss: 0.0023\n",
      "Epoch 97/100\n",
      "692/692 [==============================] - 2s 3ms/step - loss: 0.0025\n",
      "Epoch 98/100\n",
      "692/692 [==============================] - 2s 3ms/step - loss: 0.0024\n",
      "Epoch 99/100\n"
     ]
    },
    {
     "name": "stdout",
     "output_type": "stream",
     "text": [
      "692/692 [==============================] - 2s 3ms/step - loss: 0.0021\n",
      "Epoch 100/100\n",
      "692/692 [==============================] - 2s 3ms/step - loss: 0.0025\n"
     ]
    },
    {
     "data": {
      "text/plain": [
       "<keras.callbacks.History at 0x129026dd8>"
      ]
     },
     "execution_count": 29,
     "metadata": {},
     "output_type": "execute_result"
    }
   ],
   "source": [
    "model = Sequential()\n",
    "model.add(LSTM(units = 50, return_sequences = True, input_shape = (X_train.shape[1], 1)))\n",
    "model.add(Dropout(0.2))\n",
    "model.add(LSTM(units = 50, return_sequences = True))\n",
    "model.add(Dropout(0.2))\n",
    "model.add(LSTM(units = 50, return_sequences = True))\n",
    "model.add(Dropout(0.2))\n",
    "model.add(LSTM(units = 50))\n",
    "model.add(Dropout(0.2))\n",
    "model.add(Dense(units = 1))\n",
    "model.compile(optimizer = 'adam', loss = 'mean_squared_error')\n",
    "\n",
    "model.fit(X_train, y_train, epochs = 100, batch_size = 32)"
   ]
  },
  {
   "cell_type": "code",
   "execution_count": null,
   "metadata": {},
   "outputs": [],
   "source": []
  },
  {
   "cell_type": "code",
   "execution_count": 30,
   "metadata": {},
   "outputs": [],
   "source": [
    "inputs = data"
   ]
  },
  {
   "cell_type": "code",
   "execution_count": 31,
   "metadata": {},
   "outputs": [],
   "source": [
    "inputs = inputs.iloc[:,0:1].values"
   ]
  },
  {
   "cell_type": "code",
   "execution_count": 32,
   "metadata": {},
   "outputs": [],
   "source": [
    "inputs = sc.fit_transform(inputs)"
   ]
  },
  {
   "cell_type": "code",
   "execution_count": 33,
   "metadata": {},
   "outputs": [],
   "source": [
    "X_test = []\n",
    "y_test = []\n",
    "for i in range(period, len(inputs)): \n",
    "    X_test.append(inputs[i-period: i, 0])\n",
    "    y_test.append(inputs[i, 0]) \n",
    "    #print(len(X_test))\n"
   ]
  },
  {
   "cell_type": "code",
   "execution_count": null,
   "metadata": {},
   "outputs": [],
   "source": []
  },
  {
   "cell_type": "code",
   "execution_count": null,
   "metadata": {},
   "outputs": [],
   "source": []
  },
  {
   "cell_type": "code",
   "execution_count": 34,
   "metadata": {},
   "outputs": [],
   "source": [
    "X_test,y_test = np.array(X_test), np.array(y_test)"
   ]
  },
  {
   "cell_type": "code",
   "execution_count": 35,
   "metadata": {},
   "outputs": [],
   "source": [
    "#len(X_test)"
   ]
  },
  {
   "cell_type": "code",
   "execution_count": null,
   "metadata": {},
   "outputs": [],
   "source": []
  },
  {
   "cell_type": "code",
   "execution_count": null,
   "metadata": {},
   "outputs": [],
   "source": []
  },
  {
   "cell_type": "code",
   "execution_count": 36,
   "metadata": {},
   "outputs": [],
   "source": [
    "X_test = np.reshape(X_test, newshape = (X_test.shape[0], X_test.shape[1], 1))"
   ]
  },
  {
   "cell_type": "code",
   "execution_count": 37,
   "metadata": {},
   "outputs": [],
   "source": [
    "predicted_price = model.predict(X_test)"
   ]
  },
  {
   "cell_type": "code",
   "execution_count": 38,
   "metadata": {},
   "outputs": [],
   "source": [
    "predicted_price = sc.inverse_transform(predicted_price)"
   ]
  },
  {
   "cell_type": "code",
   "execution_count": 39,
   "metadata": {},
   "outputs": [],
   "source": [
    "real_price = data['Open'].values"
   ]
  },
  {
   "cell_type": "code",
   "execution_count": 40,
   "metadata": {},
   "outputs": [],
   "source": [
    "real_price = real_price[20:]"
   ]
  },
  {
   "cell_type": "code",
   "execution_count": 41,
   "metadata": {},
   "outputs": [],
   "source": [
    "import matplotlib.pyplot as plt"
   ]
  },
  {
   "cell_type": "code",
   "execution_count": null,
   "metadata": {},
   "outputs": [],
   "source": []
  },
  {
   "cell_type": "code",
   "execution_count": 42,
   "metadata": {},
   "outputs": [
    {
     "data": {
      "image/png": "[encoded data removed]",
      "text/plain": [
       "<matplotlib.figure.Figure at 0x12c016898>"
      ]
     },
     "metadata": {},
     "output_type": "display_data"
    }
   ],
   "source": [
    "plt.subplots(figsize=(20, 10))\n",
    "plt.plot(real_price, color = 'red', label = 'Real price')\n",
    "plt.plot(predicted_price, color = 'blue', label = 'Predicted price')\n",
    "plt.title('Bitcoin price prediction')\n",
    "plt.xlabel('Time')\n",
    "plt.ylabel('Price')\n",
    "plt.legend()\n",
    "\n",
    "plt.show()"
   ]
  },
  {
   "cell_type": "code",
   "execution_count": null,
   "metadata": {},
   "outputs": [],
   "source": []
  },
  {
   "cell_type": "code",
   "execution_count": null,
   "metadata": {},
   "outputs": [],
   "source": []
  },
  {
   "cell_type": "code",
   "execution_count": 43,
   "metadata": {},
   "outputs": [],
   "source": [
    "#real_price"
   ]
  },
  {
   "cell_type": "code",
   "execution_count": 45,
   "metadata": {},
   "outputs": [
    {
     "name": "stdout",
     "output_type": "stream",
     "text": [
      "712/712 [==============================] - 0s 672us/step\n",
      "Loss: 0.0014285336397692897\n"
     ]
    }
   ],
   "source": [
    "loss  = model.evaluate(X_test, y_test,  batch_size=32)\n",
    "print('Loss:', loss)\n"
   ]
  },
  {
   "cell_type": "code",
   "execution_count": null,
   "metadata": {},
   "outputs": [],
   "source": []
  },
  {
   "cell_type": "code",
   "execution_count": null,
   "metadata": {},
   "outputs": [],
   "source": [
    "#X_test[-1]"
   ]
  },
  {
   "cell_type": "code",
   "execution_count": null,
   "metadata": {},
   "outputs": [],
   "source": [
    "#sc.inverse_transform(model.predict(np.array([X_test[-1]])))"
   ]
  },
  {
   "cell_type": "code",
   "execution_count": null,
   "metadata": {},
   "outputs": [],
   "source": []
  }
 ],
 "metadata": {
  "kernelspec": {
   "display_name": "Python 3",
   "language": "python",
   "name": "python3"
  },
  "language_info": {
   "codemirror_mode": {
    "name": "ipython",
    "version": 3
   },
   "file_extension": ".py",
   "mimetype": "text/x-python",
   "name": "python",
   "nbconvert_exporter": "python",
   "pygments_lexer": "ipython3",
   "version": "3.6.4"
  }
 },
 "nbformat": 4,
 "nbformat_minor": 2
}
